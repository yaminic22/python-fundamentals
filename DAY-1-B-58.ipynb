{
 "cells": [
  {
   "cell_type": "code",
   "execution_count": 1,
   "id": "7552fa40",
   "metadata": {},
   "outputs": [
    {
     "name": "stdout",
     "output_type": "stream",
     "text": [
      "Hello All welcome to the python world!\n"
     ]
    }
   ],
   "source": [
    "print(\"Hello All welcome to the python world!\")"
   ]
  },
  {
   "cell_type": "code",
   "execution_count": 3,
   "id": "f11a07c7",
   "metadata": {},
   "outputs": [],
   "source": [
    "#shift+enter ---> Run the cell "
   ]
  },
  {
   "cell_type": "code",
   "execution_count": null,
   "id": "658091dd",
   "metadata": {},
   "outputs": [],
   "source": []
  }
 ],
 "metadata": {
  "kernelspec": {
   "display_name": "Python 3 (ipykernel)",
   "language": "python",
   "name": "python3"
  },
  "language_info": {
   "codemirror_mode": {
    "name": "ipython",
    "version": 3
   },
   "file_extension": ".py",
   "mimetype": "text/x-python",
   "name": "python",
   "nbconvert_exporter": "python",
   "pygments_lexer": "ipython3",
   "version": "3.9.7"
  },
  "toc": {
   "base_numbering": 1,
   "nav_menu": {},
   "number_sections": true,
   "sideBar": true,
   "skip_h1_title": false,
   "title_cell": "Table of Contents",
   "title_sidebar": "Contents",
   "toc_cell": false,
   "toc_position": {},
   "toc_section_display": true,
   "toc_window_display": false
  }
 },
 "nbformat": 4,
 "nbformat_minor": 5
}
