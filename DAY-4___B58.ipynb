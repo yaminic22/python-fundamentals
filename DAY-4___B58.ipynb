{
 "cells": [
  {
   "cell_type": "code",
   "execution_count": 1,
   "id": "a40d985c",
   "metadata": {},
   "outputs": [],
   "source": [
    "# introduction to list datatype:"
   ]
  },
  {
   "cell_type": "code",
   "execution_count": 41,
   "id": "469d00f2",
   "metadata": {},
   "outputs": [],
   "source": [
    "#definition: A list is a collection of items declared in a particular order.\n",
    "#classification: It is classified as a mutable datatype. (flexible ---(edit and alter))\n",
    "#how to define/declare a list....? ===> []"
   ]
  },
  {
   "cell_type": "code",
   "execution_count": 3,
   "id": "995806da",
   "metadata": {},
   "outputs": [],
   "source": [
    "students =['naveen','abdul','imran','joseph','keerthi','shaheen','dolly','navya'] #0,1,2,3,4,5,6,7"
   ]
  },
  {
   "cell_type": "code",
   "execution_count": 4,
   "id": "a9f3e4ba",
   "metadata": {},
   "outputs": [
    {
     "name": "stdout",
     "output_type": "stream",
     "text": [
      "['naveen', 'abdul', 'imran', 'joseph', 'keerthi', 'shaheen', 'dolly', 'navya']\n"
     ]
    }
   ],
   "source": [
    "print(students)"
   ]
  },
  {
   "cell_type": "code",
   "execution_count": 5,
   "id": "6ca5ab37",
   "metadata": {},
   "outputs": [
    {
     "data": {
      "text/plain": [
       "list"
      ]
     },
     "execution_count": 5,
     "metadata": {},
     "output_type": "execute_result"
    }
   ],
   "source": [
    "type(students)"
   ]
  },
  {
   "cell_type": "code",
   "execution_count": 6,
   "id": "3d998158",
   "metadata": {},
   "outputs": [],
   "source": [
    "# how to access the above elements in the list..?"
   ]
  },
  {
   "cell_type": "code",
   "execution_count": 7,
   "id": "7d73d7f0",
   "metadata": {},
   "outputs": [],
   "source": [
    "#req: i want to access abdul name from the above list,how to do that..?"
   ]
  },
  {
   "cell_type": "code",
   "execution_count": 8,
   "id": "928321c2",
   "metadata": {},
   "outputs": [],
   "source": [
    "# introduction to indexing: 0,1,2,3,4...."
   ]
  },
  {
   "cell_type": "code",
   "execution_count": 9,
   "id": "4d2ccff6",
   "metadata": {},
   "outputs": [
    {
     "name": "stdout",
     "output_type": "stream",
     "text": [
      "abdul\n"
     ]
    }
   ],
   "source": [
    "print(students[1])"
   ]
  },
  {
   "cell_type": "code",
   "execution_count": 10,
   "id": "cec6c31c",
   "metadata": {},
   "outputs": [],
   "source": [
    "#req: i want to access keerthi name from the above list...?"
   ]
  },
  {
   "cell_type": "code",
   "execution_count": 11,
   "id": "b5a58437",
   "metadata": {},
   "outputs": [
    {
     "name": "stdout",
     "output_type": "stream",
     "text": [
      "keerthi\n"
     ]
    }
   ],
   "source": [
    "print(students[4])"
   ]
  },
  {
   "cell_type": "code",
   "execution_count": 12,
   "id": "49afc1f2",
   "metadata": {},
   "outputs": [],
   "source": [
    "# how to add new elements to the list.\n",
    "#how to modify the elements in the list.\n",
    "#how to delete the elements from the above list."
   ]
  },
  {
   "cell_type": "code",
   "execution_count": 13,
   "id": "b317a4ef",
   "metadata": {},
   "outputs": [],
   "source": [
    "# req : i want to add 'kumar' to the above list."
   ]
  },
  {
   "cell_type": "code",
   "execution_count": 14,
   "id": "775ac3b1",
   "metadata": {},
   "outputs": [],
   "source": [
    "students.append('kumar')"
   ]
  },
  {
   "cell_type": "code",
   "execution_count": 17,
   "id": "5294177d",
   "metadata": {
    "scrolled": true
   },
   "outputs": [
    {
     "data": {
      "text/plain": [
       "['naveen',\n",
       " 'abdul',\n",
       " 'imran',\n",
       " 'joseph',\n",
       " 'keerthi',\n",
       " 'shaheen',\n",
       " 'dolly',\n",
       " 'navya',\n",
       " 'kumar']"
      ]
     },
     "execution_count": 17,
     "metadata": {},
     "output_type": "execute_result"
    }
   ],
   "source": [
    "students"
   ]
  },
  {
   "cell_type": "code",
   "execution_count": 18,
   "id": "3ce6270a",
   "metadata": {},
   "outputs": [],
   "source": [
    "# req: i want to add sana name to the above list..?"
   ]
  },
  {
   "cell_type": "code",
   "execution_count": 19,
   "id": "476db1a5",
   "metadata": {},
   "outputs": [],
   "source": [
    "students.append('sana')"
   ]
  },
  {
   "cell_type": "code",
   "execution_count": 20,
   "id": "1e70852e",
   "metadata": {},
   "outputs": [
    {
     "name": "stdout",
     "output_type": "stream",
     "text": [
      "['naveen', 'abdul', 'imran', 'joseph', 'keerthi', 'shaheen', 'dolly', 'navya', 'kumar', 'sana']\n"
     ]
    }
   ],
   "source": [
    "print(students)"
   ]
  },
  {
   "cell_type": "code",
   "execution_count": 21,
   "id": "32ac1c34",
   "metadata": {},
   "outputs": [],
   "source": [
    "# req : i want to add yamini to the above list in the 2nd position"
   ]
  },
  {
   "cell_type": "code",
   "execution_count": 23,
   "id": "4e746476",
   "metadata": {},
   "outputs": [],
   "source": [
    "students.insert(2,'yamini')"
   ]
  },
  {
   "cell_type": "code",
   "execution_count": 24,
   "id": "46dd42c6",
   "metadata": {},
   "outputs": [
    {
     "name": "stdout",
     "output_type": "stream",
     "text": [
      "['naveen', 'abdul', 'yamini', 'imran', 'joseph', 'keerthi', 'shaheen', 'dolly', 'navya', 'kumar', 'sana']\n"
     ]
    }
   ],
   "source": [
    "print(students)"
   ]
  },
  {
   "cell_type": "code",
   "execution_count": 25,
   "id": "215154dd",
   "metadata": {},
   "outputs": [
    {
     "name": "stdout",
     "output_type": "stream",
     "text": [
      "yamini\n"
     ]
    }
   ],
   "source": [
    "print(students[2])"
   ]
  },
  {
   "cell_type": "code",
   "execution_count": 26,
   "id": "f47fdba0",
   "metadata": {},
   "outputs": [],
   "source": [
    "# interview questions: what is the diff btw append and insert method in the list..?\n",
    "# append method adds elements at the end of the list. insert method adds element at a specific position."
   ]
  },
  {
   "cell_type": "code",
   "execution_count": 27,
   "id": "70b5158c",
   "metadata": {},
   "outputs": [],
   "source": [
    "# req: i want to modify naveen name to navya..?"
   ]
  },
  {
   "cell_type": "code",
   "execution_count": 28,
   "id": "ff751654",
   "metadata": {},
   "outputs": [
    {
     "name": "stdout",
     "output_type": "stream",
     "text": [
      "naveen\n"
     ]
    }
   ],
   "source": [
    "print(students[0])"
   ]
  },
  {
   "cell_type": "code",
   "execution_count": 29,
   "id": "02df55fa",
   "metadata": {},
   "outputs": [],
   "source": [
    "students[0]= 'navya'"
   ]
  },
  {
   "cell_type": "code",
   "execution_count": 31,
   "id": "438cbaeb",
   "metadata": {},
   "outputs": [
    {
     "name": "stdout",
     "output_type": "stream",
     "text": [
      "['navya', 'abdul', 'yamini', 'imran', 'joseph', 'keerthi', 'shaheen', 'dolly', 'navya', 'kumar', 'sana']\n"
     ]
    }
   ],
   "source": [
    "print(students)"
   ]
  },
  {
   "cell_type": "code",
   "execution_count": 32,
   "id": "fb479068",
   "metadata": {},
   "outputs": [],
   "source": [
    "# req : i want to delete 'joseph' from the above list..?"
   ]
  },
  {
   "cell_type": "code",
   "execution_count": 33,
   "id": "13a9e515",
   "metadata": {},
   "outputs": [],
   "source": [
    "del students[4] # del to permanently delete element"
   ]
  },
  {
   "cell_type": "code",
   "execution_count": 34,
   "id": "06b15730",
   "metadata": {},
   "outputs": [
    {
     "name": "stdout",
     "output_type": "stream",
     "text": [
      "['navya', 'abdul', 'yamini', 'imran', 'keerthi', 'shaheen', 'dolly', 'navya', 'kumar', 'sana']\n"
     ]
    }
   ],
   "source": [
    "print(students)"
   ]
  },
  {
   "cell_type": "code",
   "execution_count": 36,
   "id": "a6ac45eb",
   "metadata": {},
   "outputs": [],
   "source": [
    "# temp deletion ---> pop --> it is used to delete the things temp ===> it will be carbon copy of the  deleted elements and store in a variable assigned to it.\n",
    "# pop --> by default will be deleting the last element in the list."
   ]
  },
  {
   "cell_type": "code",
   "execution_count": 37,
   "id": "06744b82",
   "metadata": {},
   "outputs": [],
   "source": [
    "x = students.pop()"
   ]
  },
  {
   "cell_type": "code",
   "execution_count": 38,
   "id": "5a86861a",
   "metadata": {},
   "outputs": [
    {
     "name": "stdout",
     "output_type": "stream",
     "text": [
      "['navya', 'abdul', 'yamini', 'imran', 'keerthi', 'shaheen', 'dolly', 'navya', 'kumar']\n"
     ]
    }
   ],
   "source": [
    "print(students)"
   ]
  },
  {
   "cell_type": "code",
   "execution_count": 39,
   "id": "9c9782ed",
   "metadata": {},
   "outputs": [
    {
     "name": "stdout",
     "output_type": "stream",
     "text": [
      "sana\n"
     ]
    }
   ],
   "source": [
    "print(x)"
   ]
  },
  {
   "cell_type": "code",
   "execution_count": 40,
   "id": "f3de3905",
   "metadata": {},
   "outputs": [],
   "source": [
    "## interview question : what is the difference between delete and pop method in a list..?\n",
    "# del will delete specific element in the list. pop will remove the last element from the list."
   ]
  },
  {
   "cell_type": "code",
   "execution_count": null,
   "id": "8768b440",
   "metadata": {},
   "outputs": [],
   "source": []
  }
 ],
 "metadata": {
  "kernelspec": {
   "display_name": "Python 3 (ipykernel)",
   "language": "python",
   "name": "python3"
  },
  "language_info": {
   "codemirror_mode": {
    "name": "ipython",
    "version": 3
   },
   "file_extension": ".py",
   "mimetype": "text/x-python",
   "name": "python",
   "nbconvert_exporter": "python",
   "pygments_lexer": "ipython3",
   "version": "3.9.7"
  },
  "toc": {
   "base_numbering": 1,
   "nav_menu": {},
   "number_sections": true,
   "sideBar": true,
   "skip_h1_title": false,
   "title_cell": "Table of Contents",
   "title_sidebar": "Contents",
   "toc_cell": false,
   "toc_position": {},
   "toc_section_display": true,
   "toc_window_display": false
  }
 },
 "nbformat": 4,
 "nbformat_minor": 5
}
