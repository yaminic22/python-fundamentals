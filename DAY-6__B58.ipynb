{
 "cells": [
  {
   "cell_type": "code",
   "execution_count": 1,
   "id": "9fd64374",
   "metadata": {},
   "outputs": [],
   "source": [
    "#Introduction to looping statements"
   ]
  },
  {
   "cell_type": "code",
   "execution_count": 2,
   "id": "161f90fa",
   "metadata": {},
   "outputs": [],
   "source": [
    "#Understanding the concept of for loops:"
   ]
  },
  {
   "cell_type": "code",
   "execution_count": 3,
   "id": "1955fcf6",
   "metadata": {},
   "outputs": [],
   "source": [
    "students =['kumar','naveen','vinaya','samreen','naveed','sohail']"
   ]
  },
  {
   "cell_type": "code",
   "execution_count": 4,
   "id": "76eec99c",
   "metadata": {},
   "outputs": [
    {
     "name": "stdout",
     "output_type": "stream",
     "text": [
      "['kumar', 'naveen', 'vinaya', 'samreen', 'naveed', 'sohail']\n"
     ]
    }
   ],
   "source": [
    "print(students)"
   ]
  },
  {
   "cell_type": "code",
   "execution_count": 6,
   "id": "b721987c",
   "metadata": {},
   "outputs": [
    {
     "name": "stdout",
     "output_type": "stream",
     "text": [
      "Keep up the good work,kumar\n"
     ]
    }
   ],
   "source": [
    "#1st approach:\n",
    "message = f\"Keep up the good work,{students[0]}\"\n",
    "print(message)"
   ]
  },
  {
   "cell_type": "code",
   "execution_count": 7,
   "id": "af43c45e",
   "metadata": {},
   "outputs": [
    {
     "name": "stdout",
     "output_type": "stream",
     "text": [
      "Keep up the good work,naveen\n"
     ]
    }
   ],
   "source": [
    "message = f\"Keep up the good work,{students[1]}\"\n",
    "print(message)"
   ]
  },
  {
   "cell_type": "code",
   "execution_count": 9,
   "id": "a52eaae8",
   "metadata": {},
   "outputs": [
    {
     "name": "stdout",
     "output_type": "stream",
     "text": [
      "Keep up the good work,Vinaya\n"
     ]
    }
   ],
   "source": [
    "message = f\"Keep up the good work,{students[2].title()}\"\n",
    "print(message)"
   ]
  },
  {
   "cell_type": "code",
   "execution_count": 11,
   "id": "76f0180c",
   "metadata": {},
   "outputs": [],
   "source": [
    "# general syntax of a for loop:\n",
    "\n",
    "# for tempvar in mainvar:\n",
    "    #print(tempvar)\n"
   ]
  },
  {
   "cell_type": "code",
   "execution_count": 12,
   "id": "08e8d776",
   "metadata": {},
   "outputs": [
    {
     "name": "stdout",
     "output_type": "stream",
     "text": [
      "keep up the good work,Kumar\n",
      "keep up the good work,Naveen\n",
      "keep up the good work,Vinaya\n",
      "keep up the good work,Samreen\n",
      "keep up the good work,Naveed\n",
      "keep up the good work,Sohail\n"
     ]
    }
   ],
   "source": [
    "for x in students:\n",
    "    print(f\"keep up the good work,{x.title()}\")"
   ]
  },
  {
   "cell_type": "code",
   "execution_count": 13,
   "id": "a4f8588d",
   "metadata": {},
   "outputs": [
    {
     "name": "stdout",
     "output_type": "stream",
     "text": [
      "keep up the good work,Kumar\n",
      "keep up the good work,Naveen\n",
      "keep up the good work,Vinaya\n",
      "keep up the good work,Samreen\n",
      "keep up the good work,Naveed\n",
      "keep up the good work,Sohail\n"
     ]
    }
   ],
   "source": [
    "for ironman in students:\n",
    "    print(f\"keep up the good work,{ironman.title()}\")"
   ]
  },
  {
   "cell_type": "code",
   "execution_count": 15,
   "id": "9df8f158",
   "metadata": {},
   "outputs": [
    {
     "name": "stdout",
     "output_type": "stream",
     "text": [
      "keep up the good work,Kumar\n",
      "i will be looking forward to receive your github urls of today,Kumar\n",
      "keep up the good work,Naveen\n",
      "i will be looking forward to receive your github urls of today,Naveen\n",
      "keep up the good work,Vinaya\n",
      "i will be looking forward to receive your github urls of today,Vinaya\n",
      "keep up the good work,Samreen\n",
      "i will be looking forward to receive your github urls of today,Samreen\n",
      "keep up the good work,Naveed\n",
      "i will be looking forward to receive your github urls of today,Naveed\n",
      "keep up the good work,Sohail\n",
      "i will be looking forward to receive your github urls of today,Sohail\n"
     ]
    }
   ],
   "source": [
    "for x in students:\n",
    "    print(f\"keep up the good work,{x.title()}\")\n",
    "    print(f\"i will be looking forward to receive your github urls of today,{x.title()}\")"
   ]
  },
  {
   "cell_type": "code",
   "execution_count": 16,
   "id": "f53d883c",
   "metadata": {},
   "outputs": [],
   "source": [
    "# Enhancement of the code..."
   ]
  },
  {
   "cell_type": "code",
   "execution_count": 18,
   "id": "b5ccf0fc",
   "metadata": {},
   "outputs": [
    {
     "name": "stdout",
     "output_type": "stream",
     "text": [
      "keep up the good work,Kumar\n",
      "\n",
      "i will be looking forward to receive your github urls of today,Kumar\n",
      "\n",
      "keep up the good work,Naveen\n",
      "\n",
      "i will be looking forward to receive your github urls of today,Naveen\n",
      "\n",
      "keep up the good work,Vinaya\n",
      "\n",
      "i will be looking forward to receive your github urls of today,Vinaya\n",
      "\n",
      "keep up the good work,Samreen\n",
      "\n",
      "i will be looking forward to receive your github urls of today,Samreen\n",
      "\n",
      "keep up the good work,Naveed\n",
      "\n",
      "i will be looking forward to receive your github urls of today,Naveed\n",
      "\n",
      "keep up the good work,Sohail\n",
      "\n",
      "i will be looking forward to receive your github urls of today,Sohail\n",
      "\n"
     ]
    }
   ],
   "source": [
    "for x in students:\n",
    "    print(f\"keep up the good work,{x.title()}\\n\")\n",
    "    print(f\"i will be looking forward to receive your github urls of today,{x.title()}\\n\")"
   ]
  },
  {
   "cell_type": "code",
   "execution_count": 19,
   "id": "4aa9fc78",
   "metadata": {},
   "outputs": [
    {
     "name": "stdout",
     "output_type": "stream",
     "text": [
      "keep up the good work,Kumar\n",
      "\n",
      "i will be looking forward to receive your github urls of today,Kumar\n",
      "\n",
      "keep up the good work,Naveen\n",
      "\n",
      "i will be looking forward to receive your github urls of today,Naveen\n",
      "\n",
      "keep up the good work,Vinaya\n",
      "\n",
      "i will be looking forward to receive your github urls of today,Vinaya\n",
      "\n",
      "keep up the good work,Samreen\n",
      "\n",
      "i will be looking forward to receive your github urls of today,Samreen\n",
      "\n",
      "keep up the good work,Naveed\n",
      "\n",
      "i will be looking forward to receive your github urls of today,Naveed\n",
      "\n",
      "keep up the good work,Sohail\n",
      "\n",
      "i will be looking forward to receive your github urls of today,Sohail\n",
      "\n",
      "Thank you all of you for joining in the python training sessions.\n"
     ]
    }
   ],
   "source": [
    "for x in students:\n",
    "    print(f\"keep up the good work,{x.title()}\\n\")\n",
    "    print(f\"i will be looking forward to receive your github urls of today,{x.title()}\\n\")\n",
    "print(\"Thank you all of you for joining in the python training sessions.\")"
   ]
  },
  {
   "cell_type": "code",
   "execution_count": 20,
   "id": "de904769",
   "metadata": {},
   "outputs": [
    {
     "ename": "NameError",
     "evalue": "name 'mainvar' is not defined",
     "output_type": "error",
     "traceback": [
      "\u001b[1;31m---------------------------------------------------------------------------\u001b[0m",
      "\u001b[1;31mNameError\u001b[0m                                 Traceback (most recent call last)",
      "\u001b[1;32m~\\AppData\\Local\\Temp/ipykernel_29668/3783684592.py\u001b[0m in \u001b[0;36m<module>\u001b[1;34m\u001b[0m\n\u001b[1;32m----> 1\u001b[1;33m \u001b[1;32mfor\u001b[0m \u001b[0mtempvar\u001b[0m \u001b[1;32min\u001b[0m \u001b[0mmainvar\u001b[0m\u001b[1;33m:\u001b[0m\u001b[1;33m\u001b[0m\u001b[1;33m\u001b[0m\u001b[0m\n\u001b[0m\u001b[0;32m      2\u001b[0m     \u001b[0mprint\u001b[0m\u001b[1;33m(\u001b[0m\u001b[0mtempvar\u001b[0m\u001b[1;33m)\u001b[0m\u001b[1;33m\u001b[0m\u001b[1;33m\u001b[0m\u001b[0m\n\u001b[0;32m      3\u001b[0m \u001b[1;33m\u001b[0m\u001b[0m\n\u001b[0;32m      4\u001b[0m \u001b[1;31m#indentation\u001b[0m\u001b[1;33m\u001b[0m\u001b[1;33m\u001b[0m\u001b[0m\n",
      "\u001b[1;31mNameError\u001b[0m: name 'mainvar' is not defined"
     ]
    }
   ],
   "source": [
    "for tempvar in mainvar:\n",
    "    print(tempvar)\n",
    "\n",
    "#indentation"
   ]
  },
  {
   "cell_type": "code",
   "execution_count": 23,
   "id": "b1c51678",
   "metadata": {},
   "outputs": [
    {
     "ename": "IndentationError",
     "evalue": "expected an indented block (Temp/ipykernel_29668/1272381873.py, line 4)",
     "output_type": "error",
     "traceback": [
      "\u001b[1;36m  File \u001b[1;32m\"C:\\Users\\phani\\AppData\\Local\\Temp/ipykernel_29668/1272381873.py\"\u001b[1;36m, line \u001b[1;32m4\u001b[0m\n\u001b[1;33m    print(tempvar)\u001b[0m\n\u001b[1;37m    ^\u001b[0m\n\u001b[1;31mIndentationError\u001b[0m\u001b[1;31m:\u001b[0m expected an indented block\n"
     ]
    }
   ],
   "source": [
    "#indentation error\n",
    "\n",
    "for tempvar in mainvar:    \n",
    "print(tempvar)\n"
   ]
  }
 ],
 "metadata": {
  "kernelspec": {
   "display_name": "Python 3 (ipykernel)",
   "language": "python",
   "name": "python3"
  },
  "language_info": {
   "codemirror_mode": {
    "name": "ipython",
    "version": 3
   },
   "file_extension": ".py",
   "mimetype": "text/x-python",
   "name": "python",
   "nbconvert_exporter": "python",
   "pygments_lexer": "ipython3",
   "version": "3.9.7"
  },
  "toc": {
   "base_numbering": 1,
   "nav_menu": {},
   "number_sections": true,
   "sideBar": true,
   "skip_h1_title": false,
   "title_cell": "Table of Contents",
   "title_sidebar": "Contents",
   "toc_cell": false,
   "toc_position": {},
   "toc_section_display": true,
   "toc_window_display": false
  }
 },
 "nbformat": 4,
 "nbformat_minor": 5
}
