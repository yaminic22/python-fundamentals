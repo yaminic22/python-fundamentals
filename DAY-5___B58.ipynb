{
 "cells": [
  {
   "cell_type": "code",
   "execution_count": 1,
   "id": "274a797c",
   "metadata": {},
   "outputs": [],
   "source": [
    "# continuation with list datatype"
   ]
  },
  {
   "cell_type": "code",
   "execution_count": 2,
   "id": "114c21e1",
   "metadata": {},
   "outputs": [],
   "source": [
    "#organising the list datatype"
   ]
  },
  {
   "cell_type": "code",
   "execution_count": 3,
   "id": "62e76cf5",
   "metadata": {},
   "outputs": [],
   "source": [
    "cars =['kia','suzuki','audi','benz','tata','bmw']"
   ]
  },
  {
   "cell_type": "code",
   "execution_count": 4,
   "id": "cd539a95",
   "metadata": {},
   "outputs": [
    {
     "name": "stdout",
     "output_type": "stream",
     "text": [
      "['kia', 'suzuki', 'audi', 'benz', 'tata', 'bmw']\n"
     ]
    }
   ],
   "source": [
    "print(cars)"
   ]
  },
  {
   "cell_type": "code",
   "execution_count": 5,
   "id": "94c5e6fa",
   "metadata": {},
   "outputs": [],
   "source": [
    "#req : i want to display the list in the alphabetical order"
   ]
  },
  {
   "cell_type": "code",
   "execution_count": 7,
   "id": "2eba22ca",
   "metadata": {},
   "outputs": [],
   "source": [
    "#temp approach ==> changes are applied temp ==>sorted\n",
    "#permanent approach==> changes are applied permanently ==> sort"
   ]
  },
  {
   "cell_type": "code",
   "execution_count": 8,
   "id": "bb6401b6",
   "metadata": {},
   "outputs": [
    {
     "name": "stdout",
     "output_type": "stream",
     "text": [
      "['audi', 'benz', 'bmw', 'kia', 'suzuki', 'tata']\n"
     ]
    }
   ],
   "source": [
    "print(sorted(cars))"
   ]
  },
  {
   "cell_type": "code",
   "execution_count": 10,
   "id": "eb69ede7",
   "metadata": {},
   "outputs": [
    {
     "name": "stdout",
     "output_type": "stream",
     "text": [
      "['kia', 'suzuki', 'audi', 'benz', 'tata', 'bmw']\n"
     ]
    }
   ],
   "source": [
    "print(cars) # it is giving me the original order..!"
   ]
  },
  {
   "cell_type": "code",
   "execution_count": 13,
   "id": "c443a51e",
   "metadata": {},
   "outputs": [],
   "source": [
    "cars.sort() #  permanent changes"
   ]
  },
  {
   "cell_type": "code",
   "execution_count": 14,
   "id": "f53c51ed",
   "metadata": {},
   "outputs": [
    {
     "name": "stdout",
     "output_type": "stream",
     "text": [
      "['audi', 'benz', 'bmw', 'kia', 'suzuki', 'tata']\n"
     ]
    }
   ],
   "source": [
    "print(cars)"
   ]
  },
  {
   "cell_type": "code",
   "execution_count": 16,
   "id": "e7df49c9",
   "metadata": {},
   "outputs": [],
   "source": [
    "# interview : what is diff between sorted and sort methods? explain?\n",
    "# answer: sorted is used for temporary changes.\n",
    "#sort is used for permanent changes."
   ]
  },
  {
   "cell_type": "code",
   "execution_count": 17,
   "id": "a1769ca3",
   "metadata": {},
   "outputs": [],
   "source": [
    "#req: i want to print the list in reverse order ..!"
   ]
  },
  {
   "cell_type": "code",
   "execution_count": 18,
   "id": "21fdefb2",
   "metadata": {},
   "outputs": [],
   "source": [
    "cars.reverse()"
   ]
  },
  {
   "cell_type": "code",
   "execution_count": 19,
   "id": "ff116513",
   "metadata": {},
   "outputs": [
    {
     "name": "stdout",
     "output_type": "stream",
     "text": [
      "['tata', 'suzuki', 'kia', 'bmw', 'benz', 'audi']\n"
     ]
    }
   ],
   "source": [
    "print(cars)"
   ]
  },
  {
   "cell_type": "code",
   "execution_count": 20,
   "id": "892c0025",
   "metadata": {},
   "outputs": [],
   "source": [
    "#req : i want to count the number of elements in the list?"
   ]
  },
  {
   "cell_type": "code",
   "execution_count": 21,
   "id": "f4114697",
   "metadata": {},
   "outputs": [
    {
     "data": {
      "text/plain": [
       "6"
      ]
     },
     "execution_count": 21,
     "metadata": {},
     "output_type": "execute_result"
    }
   ],
   "source": [
    "len(cars)"
   ]
  },
  {
   "cell_type": "code",
   "execution_count": 22,
   "id": "be148140",
   "metadata": {},
   "outputs": [],
   "source": [
    "# introduction to the concept of slicing.."
   ]
  },
  {
   "cell_type": "code",
   "execution_count": 36,
   "id": "0840165a",
   "metadata": {},
   "outputs": [],
   "source": [
    "students = ['ravi','joseph','naveed','imran','keerthi','shaheen','dolly','roohi']"
   ]
  },
  {
   "cell_type": "code",
   "execution_count": 24,
   "id": "17ed386e",
   "metadata": {},
   "outputs": [
    {
     "name": "stdout",
     "output_type": "stream",
     "text": [
      "['ravi', 'joseph', 'naveed', 'imran', 'keerthi', 'shaheen']\n"
     ]
    }
   ],
   "source": [
    "print(students)"
   ]
  },
  {
   "cell_type": "code",
   "execution_count": 25,
   "id": "09963ea5",
   "metadata": {},
   "outputs": [
    {
     "data": {
      "text/plain": [
       "list"
      ]
     },
     "execution_count": 25,
     "metadata": {},
     "output_type": "execute_result"
    }
   ],
   "source": [
    "type(students)"
   ]
  },
  {
   "cell_type": "code",
   "execution_count": 26,
   "id": "90896cce",
   "metadata": {},
   "outputs": [],
   "source": [
    "# general syntax of slicing"
   ]
  },
  {
   "cell_type": "code",
   "execution_count": 27,
   "id": "eaabfde4",
   "metadata": {},
   "outputs": [],
   "source": [
    "# list[startvalue:stopvalue:stepcount]\n",
    "# note: stop value is always exclusive,to include the stop value to increase by +1"
   ]
  },
  {
   "cell_type": "code",
   "execution_count": 28,
   "id": "8aa35318",
   "metadata": {},
   "outputs": [],
   "source": [
    "#req: i want to include ravi and joseph in the list."
   ]
  },
  {
   "cell_type": "code",
   "execution_count": 31,
   "id": "14d745a1",
   "metadata": {},
   "outputs": [
    {
     "name": "stdout",
     "output_type": "stream",
     "text": [
      "['ravi']\n"
     ]
    }
   ],
   "source": [
    "print(students[0:1])"
   ]
  },
  {
   "cell_type": "code",
   "execution_count": 33,
   "id": "e4c3c1fe",
   "metadata": {},
   "outputs": [
    {
     "name": "stdout",
     "output_type": "stream",
     "text": [
      "['ravi', 'joseph']\n"
     ]
    }
   ],
   "source": [
    "print(students[0:2])"
   ]
  },
  {
   "cell_type": "code",
   "execution_count": 34,
   "id": "27929b0a",
   "metadata": {},
   "outputs": [],
   "source": [
    "#req: naveed and imran"
   ]
  },
  {
   "cell_type": "code",
   "execution_count": 35,
   "id": "f1bcd576",
   "metadata": {},
   "outputs": [
    {
     "name": "stdout",
     "output_type": "stream",
     "text": [
      "['naveed', 'imran']\n"
     ]
    }
   ],
   "source": [
    "print(students[2:4])"
   ]
  },
  {
   "cell_type": "code",
   "execution_count": 37,
   "id": "f8af1c64",
   "metadata": {},
   "outputs": [],
   "source": [
    "#req: dolly and roohi"
   ]
  },
  {
   "cell_type": "code",
   "execution_count": 40,
   "id": "d1c078c4",
   "metadata": {},
   "outputs": [
    {
     "name": "stdout",
     "output_type": "stream",
     "text": [
      "['dolly', 'roohi']\n"
     ]
    }
   ],
   "source": [
    "print(students[6:8])"
   ]
  },
  {
   "cell_type": "code",
   "execution_count": 41,
   "id": "65ee003b",
   "metadata": {},
   "outputs": [
    {
     "name": "stdout",
     "output_type": "stream",
     "text": [
      "['ravi', 'joseph', 'naveed', 'imran', 'keerthi', 'shaheen', 'dolly', 'roohi']\n"
     ]
    }
   ],
   "source": [
    "print(students)"
   ]
  },
  {
   "cell_type": "code",
   "execution_count": 57,
   "id": "d43de8ed",
   "metadata": {},
   "outputs": [
    {
     "name": "stdout",
     "output_type": "stream",
     "text": [
      "['ravi', 'joseph', 'naveed', 'imran', 'keerthi', 'shaheen', 'dolly']\n"
     ]
    }
   ],
   "source": [
    "#step count = 1\n",
    "print(students[0:7:1])"
   ]
  },
  {
   "cell_type": "code",
   "execution_count": 58,
   "id": "0a9f2c62",
   "metadata": {},
   "outputs": [
    {
     "name": "stdout",
     "output_type": "stream",
     "text": [
      "['ravi', 'naveed', 'keerthi', 'dolly']\n"
     ]
    }
   ],
   "source": [
    "#step count=2\n",
    "print(students[0:7:2])"
   ]
  },
  {
   "cell_type": "code",
   "execution_count": 59,
   "id": "88598ea6",
   "metadata": {},
   "outputs": [
    {
     "name": "stdout",
     "output_type": "stream",
     "text": [
      "['ravi', 'imran', 'dolly']\n"
     ]
    }
   ],
   "source": [
    "#step count =3\n",
    "print(students[0:7:3])"
   ]
  },
  {
   "cell_type": "code",
   "execution_count": 60,
   "id": "a4aef7a0",
   "metadata": {},
   "outputs": [
    {
     "name": "stdout",
     "output_type": "stream",
     "text": [
      "['ravi', 'keerthi']\n"
     ]
    }
   ],
   "source": [
    "#step count=4\n",
    "print(students[0:7:4])"
   ]
  },
  {
   "cell_type": "code",
   "execution_count": 61,
   "id": "186a77be",
   "metadata": {},
   "outputs": [
    {
     "name": "stdout",
     "output_type": "stream",
     "text": [
      "['ravi', 'shaheen']\n"
     ]
    }
   ],
   "source": [
    "#step count=5\n",
    "print(students[0:7:5])"
   ]
  },
  {
   "cell_type": "code",
   "execution_count": 62,
   "id": "7bf2c7c4",
   "metadata": {},
   "outputs": [
    {
     "name": "stdout",
     "output_type": "stream",
     "text": [
      "['ravi', 'dolly']\n"
     ]
    }
   ],
   "source": [
    "#step count=6\n",
    "print(students[0:7:6])"
   ]
  },
  {
   "cell_type": "code",
   "execution_count": 63,
   "id": "28c7cb0b",
   "metadata": {},
   "outputs": [
    {
     "name": "stdout",
     "output_type": "stream",
     "text": [
      "['ravi']\n"
     ]
    }
   ],
   "source": [
    "#step count=7\n",
    "print(students[0:7:7])"
   ]
  },
  {
   "cell_type": "code",
   "execution_count": 64,
   "id": "2a9cce02",
   "metadata": {},
   "outputs": [
    {
     "name": "stdout",
     "output_type": "stream",
     "text": [
      "['ravi']\n"
     ]
    }
   ],
   "source": [
    "#step count =8\n",
    "print(students[0:7:8])"
   ]
  },
  {
   "cell_type": "code",
   "execution_count": 65,
   "id": "9ed5d0ee",
   "metadata": {},
   "outputs": [
    {
     "name": "stdout",
     "output_type": "stream",
     "text": [
      "['ravi']\n"
     ]
    }
   ],
   "source": [
    "#step count=9\n",
    "print(students[0:7:9])"
   ]
  },
  {
   "cell_type": "code",
   "execution_count": null,
   "id": "6ca20813",
   "metadata": {},
   "outputs": [],
   "source": []
  }
 ],
 "metadata": {
  "kernelspec": {
   "display_name": "Python 3 (ipykernel)",
   "language": "python",
   "name": "python3"
  },
  "language_info": {
   "codemirror_mode": {
    "name": "ipython",
    "version": 3
   },
   "file_extension": ".py",
   "mimetype": "text/x-python",
   "name": "python",
   "nbconvert_exporter": "python",
   "pygments_lexer": "ipython3",
   "version": "3.9.7"
  },
  "toc": {
   "base_numbering": 1,
   "nav_menu": {},
   "number_sections": true,
   "sideBar": true,
   "skip_h1_title": false,
   "title_cell": "Table of Contents",
   "title_sidebar": "Contents",
   "toc_cell": false,
   "toc_position": {},
   "toc_section_display": true,
   "toc_window_display": false
  }
 },
 "nbformat": 4,
 "nbformat_minor": 5
}
