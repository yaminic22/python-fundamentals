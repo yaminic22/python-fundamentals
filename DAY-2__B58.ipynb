{
 "cells": [
  {
   "cell_type": "code",
   "execution_count": 1,
   "id": "54718e7e",
   "metadata": {},
   "outputs": [],
   "source": [
    "#Variables in python"
   ]
  },
  {
   "cell_type": "code",
   "execution_count": 2,
   "id": "39b2fed0",
   "metadata": {},
   "outputs": [],
   "source": [
    "x=3\n",
    "y=2"
   ]
  },
  {
   "cell_type": "code",
   "execution_count": 3,
   "id": "cc6f4970",
   "metadata": {},
   "outputs": [
    {
     "data": {
      "text/plain": [
       "5"
      ]
     },
     "execution_count": 3,
     "metadata": {},
     "output_type": "execute_result"
    }
   ],
   "source": [
    "x+y"
   ]
  },
  {
   "cell_type": "code",
   "execution_count": 8,
   "id": "00a2d814",
   "metadata": {},
   "outputs": [],
   "source": [
    "# Rules for declaring the variables in python: \n",
    "# 1. A variable name should not contain any namespaces."
   ]
  },
  {
   "cell_type": "code",
   "execution_count": 5,
   "id": "7d5acdd0",
   "metadata": {},
   "outputs": [
    {
     "ename": "SyntaxError",
     "evalue": "invalid syntax (Temp/ipykernel_16124/2642777287.py, line 1)",
     "output_type": "error",
     "traceback": [
      "\u001b[1;36m  File \u001b[1;32m\"C:\\Users\\phani\\AppData\\Local\\Temp/ipykernel_16124/2642777287.py\"\u001b[1;36m, line \u001b[1;32m1\u001b[0m\n\u001b[1;33m    first name = 'Faiyaz'\u001b[0m\n\u001b[1;37m          ^\u001b[0m\n\u001b[1;31mSyntaxError\u001b[0m\u001b[1;31m:\u001b[0m invalid syntax\n"
     ]
    }
   ],
   "source": [
    "first name = 'Faiyaz'\n",
    "print(first name)"
   ]
  },
  {
   "cell_type": "code",
   "execution_count": 6,
   "id": "151c93aa",
   "metadata": {},
   "outputs": [
    {
     "name": "stdout",
     "output_type": "stream",
     "text": [
      "Faiyaz\n"
     ]
    }
   ],
   "source": [
    "firstname = 'Faiyaz'\n",
    "print(firstname)"
   ]
  },
  {
   "cell_type": "code",
   "execution_count": 7,
   "id": "9aa36451",
   "metadata": {},
   "outputs": [
    {
     "name": "stdout",
     "output_type": "stream",
     "text": [
      "Faiyaz\n"
     ]
    }
   ],
   "source": [
    "first_name = 'Faiyaz'\n",
    "print(first_name)"
   ]
  },
  {
   "cell_type": "code",
   "execution_count": 11,
   "id": "26feb566",
   "metadata": {},
   "outputs": [],
   "source": [
    "# 2. A variable name should not start with a number **"
   ]
  },
  {
   "cell_type": "code",
   "execution_count": 12,
   "id": "e4987960",
   "metadata": {},
   "outputs": [
    {
     "ename": "SyntaxError",
     "evalue": "invalid syntax (Temp/ipykernel_16124/2503235896.py, line 1)",
     "output_type": "error",
     "traceback": [
      "\u001b[1;36m  File \u001b[1;32m\"C:\\Users\\phani\\AppData\\Local\\Temp/ipykernel_16124/2503235896.py\"\u001b[1;36m, line \u001b[1;32m1\u001b[0m\n\u001b[1;33m    1name = 'ravi'\u001b[0m\n\u001b[1;37m     ^\u001b[0m\n\u001b[1;31mSyntaxError\u001b[0m\u001b[1;31m:\u001b[0m invalid syntax\n"
     ]
    }
   ],
   "source": [
    "1name = 'ravi'\n",
    "print(1name)"
   ]
  },
  {
   "cell_type": "code",
   "execution_count": 13,
   "id": "91d8509f",
   "metadata": {},
   "outputs": [
    {
     "name": "stdout",
     "output_type": "stream",
     "text": [
      "ravi\n"
     ]
    }
   ],
   "source": [
    "name1 = 'ravi'\n",
    "print(name1)"
   ]
  },
  {
   "cell_type": "code",
   "execution_count": 14,
   "id": "103d7f2e",
   "metadata": {},
   "outputs": [],
   "source": [
    "# 3. A variable name should not contain any special characters."
   ]
  },
  {
   "cell_type": "code",
   "execution_count": 15,
   "id": "779998f7",
   "metadata": {},
   "outputs": [
    {
     "ename": "SyntaxError",
     "evalue": "invalid syntax (Temp/ipykernel_16124/771521955.py, line 1)",
     "output_type": "error",
     "traceback": [
      "\u001b[1;36m  File \u001b[1;32m\"C:\\Users\\phani\\AppData\\Local\\Temp/ipykernel_16124/771521955.py\"\u001b[1;36m, line \u001b[1;32m1\u001b[0m\n\u001b[1;33m    $@&^*\u001b[0m\n\u001b[1;37m    ^\u001b[0m\n\u001b[1;31mSyntaxError\u001b[0m\u001b[1;31m:\u001b[0m invalid syntax\n"
     ]
    }
   ],
   "source": [
    "$@&^*"
   ]
  },
  {
   "cell_type": "code",
   "execution_count": 17,
   "id": "bca2b538",
   "metadata": {},
   "outputs": [
    {
     "ename": "SyntaxError",
     "evalue": "invalid syntax (Temp/ipykernel_16124/2733121188.py, line 2)",
     "output_type": "error",
     "traceback": [
      "\u001b[1;36m  File \u001b[1;32m\"C:\\Users\\phani\\AppData\\Local\\Temp/ipykernel_16124/2733121188.py\"\u001b[1;36m, line \u001b[1;32m2\u001b[0m\n\u001b[1;33m    print(name@)\u001b[0m\n\u001b[1;37m               ^\u001b[0m\n\u001b[1;31mSyntaxError\u001b[0m\u001b[1;31m:\u001b[0m invalid syntax\n"
     ]
    }
   ],
   "source": [
    "name@= 'joseph'\n",
    "print(name@)"
   ]
  },
  {
   "cell_type": "code",
   "execution_count": 18,
   "id": "e2f25114",
   "metadata": {},
   "outputs": [],
   "source": [
    "# Introduction to datatypes in python:\n",
    "#1.String ---> str\n",
    "#2.Numbers -----> integers(int) and float(float(decimals))\n",
    "#3.list  ---> list\n",
    "#4.tuple  -- > tuple\n",
    "#5.Dictionaries---> dict"
   ]
  },
  {
   "cell_type": "code",
   "execution_count": 19,
   "id": "7321343b",
   "metadata": {},
   "outputs": [
    {
     "data": {
      "text/plain": [
       "'Classification of datatypes:\\nData types are broadly classified into 2 categories.\\n1. mutable datatypes ---> which we can edit or alter ---> flexible\\n2. immutable datatypes--> which we cannot edit or alter ---> fixed\\n'"
      ]
     },
     "execution_count": 19,
     "metadata": {},
     "output_type": "execute_result"
    }
   ],
   "source": [
    "'''Classification of datatypes:\n",
    "Data types are broadly classified into 2 categories.\n",
    "1. mutable datatypes ---> which we can edit or alter ---> flexible\n",
    "2. immutable datatypes--> which we cannot edit or alter ---> fixed\n",
    "'''"
   ]
  },
  {
   "cell_type": "code",
   "execution_count": 20,
   "id": "b9354ce5",
   "metadata": {},
   "outputs": [
    {
     "data": {
      "text/plain": [
       "'Introduction to string datatype:\\nDefinition: A string is a series of characters declared in quotes.\\nClassification : It is classified as immutable datatype (fixed datatype)\\n\\nHow to declare the string datatype: ===> 3 possible options for declaring the string.\\n1.single quote:\\n2.double quote:\\n3.triple quote:\\n'"
      ]
     },
     "execution_count": 20,
     "metadata": {},
     "output_type": "execute_result"
    }
   ],
   "source": [
    "'''Introduction to string datatype:\n",
    "Definition: A string is a series of characters declared in quotes.\n",
    "Classification : It is classified as immutable datatype (fixed datatype)\n",
    "\n",
    "How to declare the string datatype: ===> 3 possible options for declaring the string.\n",
    "1.single quote:\n",
    "2.double quote:\n",
    "3.triple quote:\n",
    "'''"
   ]
  },
  {
   "cell_type": "code",
   "execution_count": 21,
   "id": "ef134c18",
   "metadata": {},
   "outputs": [
    {
     "name": "stdout",
     "output_type": "stream",
     "text": [
      "swathi\n"
     ]
    }
   ],
   "source": [
    "name= 'swathi'   # single quote\n",
    "print(name)"
   ]
  },
  {
   "cell_type": "code",
   "execution_count": 22,
   "id": "ad32fc30",
   "metadata": {},
   "outputs": [
    {
     "name": "stdout",
     "output_type": "stream",
     "text": [
      "abdul\n"
     ]
    }
   ],
   "source": [
    "name2 = \"abdul\"\n",
    "print(name2)      #double quote"
   ]
  },
  {
   "cell_type": "code",
   "execution_count": 25,
   "id": "3603e232",
   "metadata": {},
   "outputs": [
    {
     "name": "stdout",
     "output_type": "stream",
     "text": [
      "john\n"
     ]
    }
   ],
   "source": [
    "name3 = \"\"\"john\"\"\"   # triple quote\n",
    "print(name3)"
   ]
  },
  {
   "cell_type": "code",
   "execution_count": 26,
   "id": "81e98e3f",
   "metadata": {},
   "outputs": [],
   "source": [
    "# hash is used for commenting the code...!"
   ]
  },
  {
   "cell_type": "code",
   "execution_count": 27,
   "id": "f3aa0bb7",
   "metadata": {},
   "outputs": [],
   "source": [
    "# shift+enter button together on the keyboard"
   ]
  },
  {
   "cell_type": "code",
   "execution_count": 28,
   "id": "f2820113",
   "metadata": {},
   "outputs": [
    {
     "data": {
      "text/plain": [
       "'Introduction to string methods: '"
      ]
     },
     "execution_count": 28,
     "metadata": {},
     "output_type": "execute_result"
    }
   ],
   "source": [
    "'''Introduction to string methods: '''"
   ]
  },
  {
   "cell_type": "code",
   "execution_count": 29,
   "id": "18d39daa",
   "metadata": {},
   "outputs": [
    {
     "data": {
      "text/plain": [
       "str"
      ]
     },
     "execution_count": 29,
     "metadata": {},
     "output_type": "execute_result"
    }
   ],
   "source": [
    "type(name)"
   ]
  },
  {
   "cell_type": "code",
   "execution_count": 30,
   "id": "fb9403ea",
   "metadata": {},
   "outputs": [
    {
     "data": {
      "text/plain": [
       "str"
      ]
     },
     "execution_count": 30,
     "metadata": {},
     "output_type": "execute_result"
    }
   ],
   "source": [
    "type(name2)"
   ]
  },
  {
   "cell_type": "code",
   "execution_count": 31,
   "id": "a7e1ee50",
   "metadata": {},
   "outputs": [
    {
     "data": {
      "text/plain": [
       "str"
      ]
     },
     "execution_count": 31,
     "metadata": {},
     "output_type": "execute_result"
    }
   ],
   "source": [
    "type(name3)"
   ]
  }
 ],
 "metadata": {
  "kernelspec": {
   "display_name": "Python 3 (ipykernel)",
   "language": "python",
   "name": "python3"
  },
  "language_info": {
   "codemirror_mode": {
    "name": "ipython",
    "version": 3
   },
   "file_extension": ".py",
   "mimetype": "text/x-python",
   "name": "python",
   "nbconvert_exporter": "python",
   "pygments_lexer": "ipython3",
   "version": "3.9.7"
  },
  "toc": {
   "base_numbering": 1,
   "nav_menu": {},
   "number_sections": true,
   "sideBar": true,
   "skip_h1_title": false,
   "title_cell": "Table of Contents",
   "title_sidebar": "Contents",
   "toc_cell": false,
   "toc_position": {},
   "toc_section_display": true,
   "toc_window_display": false
  }
 },
 "nbformat": 4,
 "nbformat_minor": 5
}
