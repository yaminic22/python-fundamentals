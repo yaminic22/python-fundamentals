{
 "cells": [
  {
   "cell_type": "code",
   "execution_count": 1,
   "id": "94b79a77",
   "metadata": {},
   "outputs": [],
   "source": [
    "#Introduction to tuple datatype:"
   ]
  },
  {
   "cell_type": "code",
   "execution_count": 2,
   "id": "51dca533",
   "metadata": {},
   "outputs": [],
   "source": [
    "#definition: An immutable list is called as tuple data type. \n",
    "#classification: It is classified as an immutable datatype.\n",
    "#how do you define the tuple data type --> ()"
   ]
  },
  {
   "cell_type": "code",
   "execution_count": 3,
   "id": "f5e22e14",
   "metadata": {},
   "outputs": [],
   "source": [
    "students = ('nikhil','praveen','raheem','imran','keerthi','farida')"
   ]
  },
  {
   "cell_type": "code",
   "execution_count": 4,
   "id": "67e49689",
   "metadata": {},
   "outputs": [
    {
     "name": "stdout",
     "output_type": "stream",
     "text": [
      "('nikhil', 'praveen', 'raheem', 'imran', 'keerthi', 'farida')\n"
     ]
    }
   ],
   "source": [
    "print(students)"
   ]
  },
  {
   "cell_type": "code",
   "execution_count": 5,
   "id": "829604d6",
   "metadata": {},
   "outputs": [
    {
     "data": {
      "text/plain": [
       "tuple"
      ]
     },
     "execution_count": 5,
     "metadata": {},
     "output_type": "execute_result"
    }
   ],
   "source": [
    "type(students)"
   ]
  },
  {
   "cell_type": "code",
   "execution_count": 6,
   "id": "e5518239",
   "metadata": {},
   "outputs": [],
   "source": [
    "#req: i want to change nikhil name ===> naveed"
   ]
  },
  {
   "cell_type": "code",
   "execution_count": 7,
   "id": "12781693",
   "metadata": {},
   "outputs": [
    {
     "ename": "TypeError",
     "evalue": "'tuple' object does not support item assignment",
     "output_type": "error",
     "traceback": [
      "\u001b[1;31m---------------------------------------------------------------------------\u001b[0m",
      "\u001b[1;31mTypeError\u001b[0m                                 Traceback (most recent call last)",
      "\u001b[1;32m~\\AppData\\Local\\Temp/ipykernel_22176/3595173042.py\u001b[0m in \u001b[0;36m<module>\u001b[1;34m\u001b[0m\n\u001b[1;32m----> 1\u001b[1;33m \u001b[0mstudents\u001b[0m\u001b[1;33m[\u001b[0m\u001b[1;36m0\u001b[0m\u001b[1;33m]\u001b[0m\u001b[1;33m=\u001b[0m\u001b[1;34m'naveed'\u001b[0m\u001b[1;33m\u001b[0m\u001b[1;33m\u001b[0m\u001b[0m\n\u001b[0m",
      "\u001b[1;31mTypeError\u001b[0m: 'tuple' object does not support item assignment"
     ]
    }
   ],
   "source": [
    "students[0]='naveed'"
   ]
  },
  {
   "cell_type": "code",
   "execution_count": 13,
   "id": "98194a80",
   "metadata": {},
   "outputs": [
    {
     "name": "stdout",
     "output_type": "stream",
     "text": [
      "(200, 50)\n"
     ]
    }
   ],
   "source": [
    "dimensions =(200,50)\n",
    "print(dimensions)"
   ]
  },
  {
   "cell_type": "code",
   "execution_count": 10,
   "id": "1bdaf290",
   "metadata": {},
   "outputs": [],
   "source": [
    "#req: I want to change the dimension from 200,250..?"
   ]
  },
  {
   "cell_type": "code",
   "execution_count": 12,
   "id": "1243f6ba",
   "metadata": {},
   "outputs": [
    {
     "name": "stdout",
     "output_type": "stream",
     "text": [
      "(250, 50)\n"
     ]
    }
   ],
   "source": [
    "dimensions =(250,50)\n",
    "print(dimensions)"
   ]
  },
  {
   "cell_type": "code",
   "execution_count": 14,
   "id": "8f5d547e",
   "metadata": {},
   "outputs": [],
   "source": [
    "#land ---> house ==> Blueprint -->hall,bedrooms,kitchen ==> fixed data ==> \n",
    "\n",
    "#  6 months later ==> we cannot change dimensions ==> tuple"
   ]
  },
  {
   "cell_type": "code",
   "execution_count": 15,
   "id": "d836064d",
   "metadata": {},
   "outputs": [
    {
     "name": "stdout",
     "output_type": "stream",
     "text": [
      "('nikhil', 'praveen', 'raheem', 'imran', 'keerthi', 'farida')\n"
     ]
    }
   ],
   "source": [
    "print(students)"
   ]
  },
  {
   "cell_type": "code",
   "execution_count": 16,
   "id": "2732e7ee",
   "metadata": {},
   "outputs": [],
   "source": [
    "#req: I want to get praveen name in the output..?"
   ]
  },
  {
   "cell_type": "code",
   "execution_count": 17,
   "id": "f32f4b65",
   "metadata": {},
   "outputs": [
    {
     "name": "stdout",
     "output_type": "stream",
     "text": [
      "praveen\n"
     ]
    }
   ],
   "source": [
    "print(students[1])"
   ]
  },
  {
   "cell_type": "code",
   "execution_count": 18,
   "id": "24197dbb",
   "metadata": {},
   "outputs": [],
   "source": [
    "# i want to implement a for loop on tuple..?"
   ]
  },
  {
   "cell_type": "code",
   "execution_count": 19,
   "id": "916cd797",
   "metadata": {},
   "outputs": [
    {
     "name": "stdout",
     "output_type": "stream",
     "text": [
      "nikhil\n",
      "praveen\n",
      "raheem\n",
      "imran\n",
      "keerthi\n",
      "farida\n"
     ]
    }
   ],
   "source": [
    "for x in students:\n",
    "    print(x)"
   ]
  }
 ],
 "metadata": {
  "kernelspec": {
   "display_name": "Python 3 (ipykernel)",
   "language": "python",
   "name": "python3"
  },
  "language_info": {
   "codemirror_mode": {
    "name": "ipython",
    "version": 3
   },
   "file_extension": ".py",
   "mimetype": "text/x-python",
   "name": "python",
   "nbconvert_exporter": "python",
   "pygments_lexer": "ipython3",
   "version": "3.9.7"
  },
  "toc": {
   "base_numbering": 1,
   "nav_menu": {},
   "number_sections": true,
   "sideBar": true,
   "skip_h1_title": false,
   "title_cell": "Table of Contents",
   "title_sidebar": "Contents",
   "toc_cell": false,
   "toc_position": {},
   "toc_section_display": true,
   "toc_window_display": false
  }
 },
 "nbformat": 4,
 "nbformat_minor": 5
}
