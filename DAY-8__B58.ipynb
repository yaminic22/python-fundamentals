{
 "cells": [
  {
   "cell_type": "code",
   "execution_count": 1,
   "id": "f6fa28e2",
   "metadata": {},
   "outputs": [],
   "source": [
    "#Introduction to dictionary datatype:"
   ]
  },
  {
   "cell_type": "code",
   "execution_count": 2,
   "id": "30551879",
   "metadata": {},
   "outputs": [],
   "source": [
    "#Definition: A dictionary is a combination of key -value pairs.\n",
    "#Classification: It is classified as a mutable datatype.\n",
    "#How to define the dictionary ?---> {}\n",
    "# In a short form it is written as dict."
   ]
  },
  {
   "cell_type": "code",
   "execution_count": 3,
   "id": "c8c57201",
   "metadata": {},
   "outputs": [],
   "source": [
    "# Req : Designing an alien game..!"
   ]
  },
  {
   "cell_type": "code",
   "execution_count": 4,
   "id": "b433be31",
   "metadata": {},
   "outputs": [],
   "source": [
    "alien = {'color':'green','points':5}"
   ]
  },
  {
   "cell_type": "code",
   "execution_count": 5,
   "id": "88d77496",
   "metadata": {},
   "outputs": [
    {
     "name": "stdout",
     "output_type": "stream",
     "text": [
      "{'color': 'green', 'points': 5}\n"
     ]
    }
   ],
   "source": [
    "print(alien)"
   ]
  },
  {
   "cell_type": "code",
   "execution_count": 6,
   "id": "3b8f9c18",
   "metadata": {},
   "outputs": [
    {
     "data": {
      "text/plain": [
       "dict"
      ]
     },
     "execution_count": 6,
     "metadata": {},
     "output_type": "execute_result"
    }
   ],
   "source": [
    "type(alien)"
   ]
  },
  {
   "cell_type": "code",
   "execution_count": 7,
   "id": "db8c2443",
   "metadata": {},
   "outputs": [],
   "source": [
    "# Req: How to access the elements in the dict...?"
   ]
  },
  {
   "cell_type": "code",
   "execution_count": 9,
   "id": "ed49fb08",
   "metadata": {},
   "outputs": [
    {
     "name": "stdout",
     "output_type": "stream",
     "text": [
      "green\n"
     ]
    }
   ],
   "source": [
    "print(alien['color'])"
   ]
  },
  {
   "cell_type": "code",
   "execution_count": 10,
   "id": "3a877d75",
   "metadata": {},
   "outputs": [],
   "source": [
    "# note: give the key and get the value.\n",
    "#In a dict keys will be acting as an indexes."
   ]
  },
  {
   "cell_type": "code",
   "execution_count": 11,
   "id": "7a0376cb",
   "metadata": {},
   "outputs": [
    {
     "name": "stdout",
     "output_type": "stream",
     "text": [
      "5\n"
     ]
    }
   ],
   "source": [
    "print(alien['points'])"
   ]
  },
  {
   "cell_type": "code",
   "execution_count": 12,
   "id": "7e8fa7f6",
   "metadata": {},
   "outputs": [],
   "source": [
    "# opposite"
   ]
  },
  {
   "cell_type": "code",
   "execution_count": 14,
   "id": "21392eeb",
   "metadata": {},
   "outputs": [
    {
     "ename": "KeyError",
     "evalue": "'green'",
     "output_type": "error",
     "traceback": [
      "\u001b[1;31m---------------------------------------------------------------------------\u001b[0m",
      "\u001b[1;31mKeyError\u001b[0m                                  Traceback (most recent call last)",
      "\u001b[1;32m~\\AppData\\Local\\Temp/ipykernel_14620/1335712893.py\u001b[0m in \u001b[0;36m<module>\u001b[1;34m\u001b[0m\n\u001b[1;32m----> 1\u001b[1;33m \u001b[0mprint\u001b[0m\u001b[1;33m(\u001b[0m\u001b[0malien\u001b[0m\u001b[1;33m[\u001b[0m\u001b[1;34m'green'\u001b[0m\u001b[1;33m]\u001b[0m\u001b[1;33m)\u001b[0m    \u001b[1;31m#only key can be used to search a dictionary.\u001b[0m\u001b[1;33m\u001b[0m\u001b[1;33m\u001b[0m\u001b[0m\n\u001b[0m",
      "\u001b[1;31mKeyError\u001b[0m: 'green'"
     ]
    }
   ],
   "source": [
    "print(alien['green'])    #only key can be used to search a dictionary."
   ]
  },
  {
   "cell_type": "code",
   "execution_count": 15,
   "id": "03b9a98b",
   "metadata": {},
   "outputs": [],
   "source": [
    "# req: How to add new key value pairs to the dictionary."
   ]
  },
  {
   "cell_type": "code",
   "execution_count": 16,
   "id": "c2c34445",
   "metadata": {},
   "outputs": [],
   "source": [
    "#req: I want to add start position...? 0"
   ]
  },
  {
   "cell_type": "code",
   "execution_count": 17,
   "id": "b6cdfa39",
   "metadata": {},
   "outputs": [],
   "source": [
    "alien['start_position'] =0 "
   ]
  },
  {
   "cell_type": "code",
   "execution_count": 18,
   "id": "7c377806",
   "metadata": {},
   "outputs": [
    {
     "name": "stdout",
     "output_type": "stream",
     "text": [
      "{'color': 'green', 'points': 5, 'start_position': 0}\n"
     ]
    }
   ],
   "source": [
    "print(alien)"
   ]
  },
  {
   "cell_type": "code",
   "execution_count": 19,
   "id": "0578446c",
   "metadata": {},
   "outputs": [],
   "source": [
    "#facebook:===> create new user account in facebook...?"
   ]
  },
  {
   "cell_type": "code",
   "execution_count": 20,
   "id": "62769067",
   "metadata": {},
   "outputs": [],
   "source": [
    "useraccount = {'username':'codetrainingacademy','first_name':'code','last_name':'training','dob':'01-01-2020','pwd':'12345'}"
   ]
  },
  {
   "cell_type": "code",
   "execution_count": 21,
   "id": "2c247215",
   "metadata": {},
   "outputs": [
    {
     "name": "stdout",
     "output_type": "stream",
     "text": [
      "{'username': 'codetrainingacademy', 'first_name': 'code', 'last_name': 'training', 'dob': '01-01-2020', 'pwd': '12345'}\n"
     ]
    }
   ],
   "source": [
    "print(useraccount)"
   ]
  },
  {
   "cell_type": "code",
   "execution_count": 22,
   "id": "ba346d00",
   "metadata": {},
   "outputs": [
    {
     "data": {
      "text/plain": [
       "dict"
      ]
     },
     "execution_count": 22,
     "metadata": {},
     "output_type": "execute_result"
    }
   ],
   "source": [
    "type(useraccount)"
   ]
  },
  {
   "cell_type": "code",
   "execution_count": 23,
   "id": "2c1573fa",
   "metadata": {},
   "outputs": [],
   "source": [
    "# req: update status:dinner ---> farzi_cafe"
   ]
  },
  {
   "cell_type": "code",
   "execution_count": 24,
   "id": "2067b40b",
   "metadata": {},
   "outputs": [],
   "source": [
    "useraccount['dinner'] = 'farzi_cafe'"
   ]
  },
  {
   "cell_type": "code",
   "execution_count": 25,
   "id": "0afc18e8",
   "metadata": {},
   "outputs": [
    {
     "name": "stdout",
     "output_type": "stream",
     "text": [
      "{'username': 'codetrainingacademy', 'first_name': 'code', 'last_name': 'training', 'dob': '01-01-2020', 'pwd': '12345', 'dinner': 'farzi_cafe'}\n"
     ]
    }
   ],
   "source": [
    "print(useraccount)"
   ]
  },
  {
   "cell_type": "code",
   "execution_count": 26,
   "id": "24163ba5",
   "metadata": {},
   "outputs": [],
   "source": [
    "# how to modify the values in a dictionary"
   ]
  },
  {
   "cell_type": "code",
   "execution_count": 27,
   "id": "1b3bc270",
   "metadata": {},
   "outputs": [
    {
     "name": "stdout",
     "output_type": "stream",
     "text": [
      "{'color': 'green', 'points': 5, 'start_position': 0}\n"
     ]
    }
   ],
   "source": [
    "print(alien)"
   ]
  },
  {
   "cell_type": "code",
   "execution_count": 28,
   "id": "d66b7fbc",
   "metadata": {},
   "outputs": [],
   "source": [
    "# green ---> yellow"
   ]
  },
  {
   "cell_type": "code",
   "execution_count": 29,
   "id": "859b0b5c",
   "metadata": {},
   "outputs": [],
   "source": [
    "alien['color'] = 'yellow'"
   ]
  },
  {
   "cell_type": "code",
   "execution_count": 31,
   "id": "968b3d08",
   "metadata": {},
   "outputs": [
    {
     "name": "stdout",
     "output_type": "stream",
     "text": [
      "{'color': 'yellow', 'points': 5, 'start_position': 0}\n"
     ]
    }
   ],
   "source": [
    "print(alien)"
   ]
  },
  {
   "cell_type": "code",
   "execution_count": 32,
   "id": "8d1a2925",
   "metadata": {},
   "outputs": [],
   "source": [
    "useraccount['pwd']='54321'"
   ]
  },
  {
   "cell_type": "code",
   "execution_count": 33,
   "id": "13592042",
   "metadata": {},
   "outputs": [
    {
     "name": "stdout",
     "output_type": "stream",
     "text": [
      "{'username': 'codetrainingacademy', 'first_name': 'code', 'last_name': 'training', 'dob': '01-01-2020', 'pwd': '54321', 'dinner': 'farzi_cafe'}\n"
     ]
    }
   ],
   "source": [
    "print(useraccount)"
   ]
  },
  {
   "cell_type": "code",
   "execution_count": 34,
   "id": "d18b32f7",
   "metadata": {},
   "outputs": [],
   "source": [
    "#How to delete the key value pairs in a dict..?"
   ]
  },
  {
   "cell_type": "code",
   "execution_count": 35,
   "id": "8209f88c",
   "metadata": {},
   "outputs": [
    {
     "name": "stdout",
     "output_type": "stream",
     "text": [
      "{'color': 'yellow', 'points': 5, 'start_position': 0}\n"
     ]
    }
   ],
   "source": [
    "print(alien)"
   ]
  },
  {
   "cell_type": "code",
   "execution_count": 36,
   "id": "cc749f4a",
   "metadata": {},
   "outputs": [],
   "source": [
    "# req: delete the points..."
   ]
  },
  {
   "cell_type": "code",
   "execution_count": 37,
   "id": "531a4007",
   "metadata": {},
   "outputs": [],
   "source": [
    "del alien['points']"
   ]
  },
  {
   "cell_type": "code",
   "execution_count": 38,
   "id": "3622680d",
   "metadata": {},
   "outputs": [
    {
     "name": "stdout",
     "output_type": "stream",
     "text": [
      "{'color': 'yellow', 'start_position': 0}\n"
     ]
    }
   ],
   "source": [
    "print(alien)"
   ]
  },
  {
   "cell_type": "code",
   "execution_count": null,
   "id": "eabe690f",
   "metadata": {},
   "outputs": [],
   "source": []
  }
 ],
 "metadata": {
  "kernelspec": {
   "display_name": "Python 3 (ipykernel)",
   "language": "python",
   "name": "python3"
  },
  "language_info": {
   "codemirror_mode": {
    "name": "ipython",
    "version": 3
   },
   "file_extension": ".py",
   "mimetype": "text/x-python",
   "name": "python",
   "nbconvert_exporter": "python",
   "pygments_lexer": "ipython3",
   "version": "3.9.7"
  },
  "toc": {
   "base_numbering": 1,
   "nav_menu": {},
   "number_sections": true,
   "sideBar": true,
   "skip_h1_title": false,
   "title_cell": "Table of Contents",
   "title_sidebar": "Contents",
   "toc_cell": false,
   "toc_position": {},
   "toc_section_display": true,
   "toc_window_display": false
  }
 },
 "nbformat": 4,
 "nbformat_minor": 5
}
