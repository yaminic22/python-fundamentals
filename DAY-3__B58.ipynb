{
 "cells": [
  {
   "cell_type": "code",
   "execution_count": null,
   "id": "1ca353c2",
   "metadata": {},
   "outputs": [],
   "source": [
    "# Continuation with strings:"
   ]
  },
  {
   "cell_type": "code",
   "execution_count": 8,
   "id": "a29f7bc4",
   "metadata": {},
   "outputs": [
    {
     "name": "stdout",
     "output_type": "stream",
     "text": [
      "ravi kumar\n"
     ]
    }
   ],
   "source": [
    "# req: convert name into title.\n",
    "full_name = 'ravi kumar'\n",
    "print(full_name)"
   ]
  },
  {
   "cell_type": "code",
   "execution_count": 9,
   "id": "65e6bfa7",
   "metadata": {},
   "outputs": [
    {
     "name": "stdout",
     "output_type": "stream",
     "text": [
      "Ravi Kumar\n"
     ]
    }
   ],
   "source": [
    "print(full_name.title())"
   ]
  },
  {
   "cell_type": "code",
   "execution_count": 10,
   "id": "e338d303",
   "metadata": {},
   "outputs": [],
   "source": [
    "# req: I want to get the fullname in capital letters..??"
   ]
  },
  {
   "cell_type": "code",
   "execution_count": 11,
   "id": "eb2463a8",
   "metadata": {},
   "outputs": [
    {
     "name": "stdout",
     "output_type": "stream",
     "text": [
      "RAVI KUMAR\n"
     ]
    }
   ],
   "source": [
    "print(full_name.upper())"
   ]
  },
  {
   "cell_type": "code",
   "execution_count": 12,
   "id": "f1a36de2",
   "metadata": {},
   "outputs": [],
   "source": [
    "# req: I want to get the fullname in smallcase letters..??"
   ]
  },
  {
   "cell_type": "code",
   "execution_count": 15,
   "id": "28bb52e2",
   "metadata": {},
   "outputs": [
    {
     "name": "stdout",
     "output_type": "stream",
     "text": [
      "ravi kumar\n"
     ]
    }
   ],
   "source": [
    "print(full_name.lower())"
   ]
  },
  {
   "cell_type": "code",
   "execution_count": 16,
   "id": "48c3ce46",
   "metadata": {},
   "outputs": [],
   "source": [
    "#Introduction to f strings:"
   ]
  },
  {
   "cell_type": "code",
   "execution_count": 17,
   "id": "dacc1399",
   "metadata": {},
   "outputs": [],
   "source": [
    "# general syntax of an f string:\n"
   ]
  },
  {
   "cell_type": "code",
   "execution_count": 18,
   "id": "b0f3f016",
   "metadata": {},
   "outputs": [],
   "source": [
    "#f\"custom words{placeholder1}{placeholder2}...{placeholder n} \"\n",
    "#custom words = customized text"
   ]
  },
  {
   "cell_type": "code",
   "execution_count": 19,
   "id": "a246e3ae",
   "metadata": {},
   "outputs": [],
   "source": [
    "first_name = 'sohail'\n",
    "last_name = 'shaik'"
   ]
  },
  {
   "cell_type": "code",
   "execution_count": 20,
   "id": "dc49843d",
   "metadata": {},
   "outputs": [],
   "source": [
    "#req: I want to get the full name ..?"
   ]
  },
  {
   "cell_type": "code",
   "execution_count": 22,
   "id": "84468a23",
   "metadata": {},
   "outputs": [
    {
     "name": "stdout",
     "output_type": "stream",
     "text": [
      "sohail shaik\n"
     ]
    }
   ],
   "source": [
    "full_name = f\"{first_name} {last_name}\"\n",
    "print(full_name)"
   ]
  },
  {
   "cell_type": "code",
   "execution_count": 25,
   "id": "e71d57c1",
   "metadata": {},
   "outputs": [
    {
     "name": "stdout",
     "output_type": "stream",
     "text": [
      "keep up the good work,sohail shaik\n"
     ]
    }
   ],
   "source": [
    "message = f\"keep up the good work,{full_name}\"\n",
    "print(message)"
   ]
  },
  {
   "cell_type": "code",
   "execution_count": 26,
   "id": "2a57e663",
   "metadata": {},
   "outputs": [
    {
     "name": "stdout",
     "output_type": "stream",
     "text": [
      "keep up the good work,Sohail Shaik\n"
     ]
    }
   ],
   "source": [
    "message = f\"keep up the good work,{full_name.title()}\"\n",
    "print(message)"
   ]
  },
  {
   "cell_type": "code",
   "execution_count": 27,
   "id": "6581bff1",
   "metadata": {},
   "outputs": [],
   "source": [
    "# Adding whitespaces to strings:"
   ]
  },
  {
   "cell_type": "code",
   "execution_count": 29,
   "id": "cdff0bfa",
   "metadata": {},
   "outputs": [
    {
     "name": "stdout",
     "output_type": "stream",
     "text": [
      "favourite_language:pythonc++javacswiftjavascript\n"
     ]
    }
   ],
   "source": [
    "print(\"favourite_language:pythonc++javacswiftjavascript\")"
   ]
  },
  {
   "cell_type": "code",
   "execution_count": 30,
   "id": "2ec12237",
   "metadata": {},
   "outputs": [
    {
     "name": "stdout",
     "output_type": "stream",
     "text": [
      "favourite_language:\n",
      "python\n",
      "c++\n",
      "java\n",
      "c\n",
      "swift\n",
      "javascript\n"
     ]
    }
   ],
   "source": [
    "print(\"favourite_language:\\npython\\nc++\\njava\\nc\\nswift\\njavascript\")"
   ]
  },
  {
   "cell_type": "code",
   "execution_count": 31,
   "id": "c9f11a34",
   "metadata": {},
   "outputs": [],
   "source": [
    "# \\n =====> it is called as newline delimter."
   ]
  },
  {
   "cell_type": "code",
   "execution_count": 35,
   "id": "5bb0720f",
   "metadata": {},
   "outputs": [
    {
     "name": "stdout",
     "output_type": "stream",
     "text": [
      "favourite_language:\n",
      "\tpython\n",
      "\tc++\n",
      "\tjava\n",
      "\tc\n",
      "\tswift\n",
      "\tjavascript\n"
     ]
    }
   ],
   "source": [
    "print(\"favourite_language:\\n\\tpython\\n\\tc++\\n\\tjava\\n\\tc\\n\\tswift\\n\\tjavascript\")"
   ]
  },
  {
   "cell_type": "code",
   "execution_count": 36,
   "id": "69a8cb47",
   "metadata": {},
   "outputs": [],
   "source": [
    "# \\t ====> tab delimter"
   ]
  },
  {
   "cell_type": "code",
   "execution_count": 37,
   "id": "6a4e30d0",
   "metadata": {},
   "outputs": [],
   "source": [
    "#Removing whitespaces from strings:"
   ]
  },
  {
   "cell_type": "code",
   "execution_count": 38,
   "id": "4c455cb1",
   "metadata": {},
   "outputs": [
    {
     "name": "stdout",
     "output_type": "stream",
     "text": [
      "python\n"
     ]
    }
   ],
   "source": [
    "name ='python'\n",
    "print(name)"
   ]
  },
  {
   "cell_type": "code",
   "execution_count": 41,
   "id": "d7e852c4",
   "metadata": {},
   "outputs": [
    {
     "name": "stdout",
     "output_type": "stream",
     "text": [
      "  java\n"
     ]
    }
   ],
   "source": [
    "name2='  java'\n",
    "print(name2)"
   ]
  },
  {
   "cell_type": "code",
   "execution_count": 42,
   "id": "904d08e4",
   "metadata": {},
   "outputs": [
    {
     "name": "stdout",
     "output_type": "stream",
     "text": [
      "c++  \n"
     ]
    }
   ],
   "source": [
    "name3 = 'c++  '\n",
    "print(name3)"
   ]
  },
  {
   "cell_type": "code",
   "execution_count": 43,
   "id": "7305cf57",
   "metadata": {},
   "outputs": [
    {
     "data": {
      "text/plain": [
       "'java'"
      ]
     },
     "execution_count": 43,
     "metadata": {},
     "output_type": "execute_result"
    }
   ],
   "source": [
    "name2.lstrip()"
   ]
  },
  {
   "cell_type": "code",
   "execution_count": 44,
   "id": "e82ad938",
   "metadata": {},
   "outputs": [
    {
     "data": {
      "text/plain": [
       "'c++'"
      ]
     },
     "execution_count": 44,
     "metadata": {},
     "output_type": "execute_result"
    }
   ],
   "source": [
    "name3.rstrip()"
   ]
  },
  {
   "cell_type": "code",
   "execution_count": null,
   "id": "30d96e71",
   "metadata": {},
   "outputs": [],
   "source": []
  }
 ],
 "metadata": {
  "kernelspec": {
   "display_name": "Python 3 (ipykernel)",
   "language": "python",
   "name": "python3"
  },
  "language_info": {
   "codemirror_mode": {
    "name": "ipython",
    "version": 3
   },
   "file_extension": ".py",
   "mimetype": "text/x-python",
   "name": "python",
   "nbconvert_exporter": "python",
   "pygments_lexer": "ipython3",
   "version": "3.9.7"
  },
  "toc": {
   "base_numbering": 1,
   "nav_menu": {},
   "number_sections": true,
   "sideBar": true,
   "skip_h1_title": false,
   "title_cell": "Table of Contents",
   "title_sidebar": "Contents",
   "toc_cell": false,
   "toc_position": {},
   "toc_section_display": true,
   "toc_window_display": false
  }
 },
 "nbformat": 4,
 "nbformat_minor": 5
}
